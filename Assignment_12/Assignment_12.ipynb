{
  "nbformat": 4,
  "nbformat_minor": 0,
  "metadata": {
    "colab": {
      "provenance": []
    },
    "kernelspec": {
      "name": "python3",
      "display_name": "Python 3"
    },
    "language_info": {
      "name": "python"
    }
  },
  "cells": [
    {
      "cell_type": "code",
      "execution_count": 2,
      "metadata": {
        "colab": {
          "base_uri": "https://localhost:8080/",
          "height": 1000
        },
        "id": "5LuftxT-FZt6",
        "outputId": "3a6eef1b-ac6a-4a01-b075-bf1293ad32b4"
      },
      "outputs": [
        {
          "output_type": "stream",
          "name": "stdout",
          "text": [
            "Cloning into 'ChatterBot'...\n",
            "remote: Enumerating objects: 13936, done.\u001b[K\n",
            "remote: Counting objects: 100% (272/272), done.\u001b[K\n",
            "remote: Compressing objects: 100% (142/142), done.\u001b[K\n",
            "remote: Total 13936 (delta 143), reused 131 (delta 130), pack-reused 13664 (from 4)\u001b[K\n",
            "Receiving objects: 100% (13936/13936), 8.19 MiB | 19.06 MiB/s, done.\n",
            "Resolving deltas: 100% (9529/9529), done.\n",
            "/content/ChatterBot\n",
            "Obtaining file:///content/ChatterBot\n",
            "  Installing build dependencies ... \u001b[?25l\u001b[?25hdone\n",
            "  Checking if build backend supports build_editable ... \u001b[?25l\u001b[?25hdone\n",
            "  Getting requirements to build editable ... \u001b[?25l\u001b[?25hdone\n",
            "  Preparing editable metadata (pyproject.toml) ... \u001b[?25l\u001b[?25hdone\n",
            "Collecting mathparse<0.2,>=0.1 (from ChatterBot==1.2.7)\n",
            "  Downloading mathparse-0.1.5-py3-none-any.whl.metadata (2.0 kB)\n",
            "Collecting python-dateutil<2.10,>=2.9 (from ChatterBot==1.2.7)\n",
            "  Downloading python_dateutil-2.9.0.post0-py2.py3-none-any.whl.metadata (8.4 kB)\n",
            "Requirement already satisfied: sqlalchemy<2.1,>=2.0 in /usr/local/lib/python3.11/dist-packages (from ChatterBot==1.2.7) (2.0.40)\n",
            "Requirement already satisfied: spacy<3.9,>=3.8 in /usr/local/lib/python3.11/dist-packages (from ChatterBot==1.2.7) (3.8.5)\n",
            "Requirement already satisfied: tqdm in /usr/local/lib/python3.11/dist-packages (from ChatterBot==1.2.7) (4.67.1)\n",
            "Requirement already satisfied: six>=1.5 in /usr/local/lib/python3.11/dist-packages (from python-dateutil<2.10,>=2.9->ChatterBot==1.2.7) (1.17.0)\n",
            "Requirement already satisfied: spacy-legacy<3.1.0,>=3.0.11 in /usr/local/lib/python3.11/dist-packages (from spacy<3.9,>=3.8->ChatterBot==1.2.7) (3.0.12)\n",
            "Requirement already satisfied: spacy-loggers<2.0.0,>=1.0.0 in /usr/local/lib/python3.11/dist-packages (from spacy<3.9,>=3.8->ChatterBot==1.2.7) (1.0.5)\n",
            "Requirement already satisfied: murmurhash<1.1.0,>=0.28.0 in /usr/local/lib/python3.11/dist-packages (from spacy<3.9,>=3.8->ChatterBot==1.2.7) (1.0.12)\n",
            "Requirement already satisfied: cymem<2.1.0,>=2.0.2 in /usr/local/lib/python3.11/dist-packages (from spacy<3.9,>=3.8->ChatterBot==1.2.7) (2.0.11)\n",
            "Requirement already satisfied: preshed<3.1.0,>=3.0.2 in /usr/local/lib/python3.11/dist-packages (from spacy<3.9,>=3.8->ChatterBot==1.2.7) (3.0.9)\n",
            "Requirement already satisfied: thinc<8.4.0,>=8.3.4 in /usr/local/lib/python3.11/dist-packages (from spacy<3.9,>=3.8->ChatterBot==1.2.7) (8.3.6)\n",
            "Requirement already satisfied: wasabi<1.2.0,>=0.9.1 in /usr/local/lib/python3.11/dist-packages (from spacy<3.9,>=3.8->ChatterBot==1.2.7) (1.1.3)\n",
            "Requirement already satisfied: srsly<3.0.0,>=2.4.3 in /usr/local/lib/python3.11/dist-packages (from spacy<3.9,>=3.8->ChatterBot==1.2.7) (2.5.1)\n",
            "Requirement already satisfied: catalogue<2.1.0,>=2.0.6 in /usr/local/lib/python3.11/dist-packages (from spacy<3.9,>=3.8->ChatterBot==1.2.7) (2.0.10)\n",
            "Requirement already satisfied: weasel<0.5.0,>=0.1.0 in /usr/local/lib/python3.11/dist-packages (from spacy<3.9,>=3.8->ChatterBot==1.2.7) (0.4.1)\n",
            "Requirement already satisfied: typer<1.0.0,>=0.3.0 in /usr/local/lib/python3.11/dist-packages (from spacy<3.9,>=3.8->ChatterBot==1.2.7) (0.15.2)\n",
            "Requirement already satisfied: numpy>=1.19.0 in /usr/local/lib/python3.11/dist-packages (from spacy<3.9,>=3.8->ChatterBot==1.2.7) (2.0.2)\n",
            "Requirement already satisfied: requests<3.0.0,>=2.13.0 in /usr/local/lib/python3.11/dist-packages (from spacy<3.9,>=3.8->ChatterBot==1.2.7) (2.32.3)\n",
            "Requirement already satisfied: pydantic!=1.8,!=1.8.1,<3.0.0,>=1.7.4 in /usr/local/lib/python3.11/dist-packages (from spacy<3.9,>=3.8->ChatterBot==1.2.7) (2.11.3)\n",
            "Requirement already satisfied: jinja2 in /usr/local/lib/python3.11/dist-packages (from spacy<3.9,>=3.8->ChatterBot==1.2.7) (3.1.6)\n",
            "Requirement already satisfied: setuptools in /usr/local/lib/python3.11/dist-packages (from spacy<3.9,>=3.8->ChatterBot==1.2.7) (75.2.0)\n",
            "Requirement already satisfied: packaging>=20.0 in /usr/local/lib/python3.11/dist-packages (from spacy<3.9,>=3.8->ChatterBot==1.2.7) (24.2)\n",
            "Requirement already satisfied: langcodes<4.0.0,>=3.2.0 in /usr/local/lib/python3.11/dist-packages (from spacy<3.9,>=3.8->ChatterBot==1.2.7) (3.5.0)\n",
            "Requirement already satisfied: greenlet>=1 in /usr/local/lib/python3.11/dist-packages (from sqlalchemy<2.1,>=2.0->ChatterBot==1.2.7) (3.2.1)\n",
            "Requirement already satisfied: typing-extensions>=4.6.0 in /usr/local/lib/python3.11/dist-packages (from sqlalchemy<2.1,>=2.0->ChatterBot==1.2.7) (4.13.2)\n",
            "Requirement already satisfied: language-data>=1.2 in /usr/local/lib/python3.11/dist-packages (from langcodes<4.0.0,>=3.2.0->spacy<3.9,>=3.8->ChatterBot==1.2.7) (1.3.0)\n",
            "Requirement already satisfied: annotated-types>=0.6.0 in /usr/local/lib/python3.11/dist-packages (from pydantic!=1.8,!=1.8.1,<3.0.0,>=1.7.4->spacy<3.9,>=3.8->ChatterBot==1.2.7) (0.7.0)\n",
            "Requirement already satisfied: pydantic-core==2.33.1 in /usr/local/lib/python3.11/dist-packages (from pydantic!=1.8,!=1.8.1,<3.0.0,>=1.7.4->spacy<3.9,>=3.8->ChatterBot==1.2.7) (2.33.1)\n",
            "Requirement already satisfied: typing-inspection>=0.4.0 in /usr/local/lib/python3.11/dist-packages (from pydantic!=1.8,!=1.8.1,<3.0.0,>=1.7.4->spacy<3.9,>=3.8->ChatterBot==1.2.7) (0.4.0)\n",
            "Requirement already satisfied: charset-normalizer<4,>=2 in /usr/local/lib/python3.11/dist-packages (from requests<3.0.0,>=2.13.0->spacy<3.9,>=3.8->ChatterBot==1.2.7) (3.4.1)\n",
            "Requirement already satisfied: idna<4,>=2.5 in /usr/local/lib/python3.11/dist-packages (from requests<3.0.0,>=2.13.0->spacy<3.9,>=3.8->ChatterBot==1.2.7) (3.10)\n",
            "Requirement already satisfied: urllib3<3,>=1.21.1 in /usr/local/lib/python3.11/dist-packages (from requests<3.0.0,>=2.13.0->spacy<3.9,>=3.8->ChatterBot==1.2.7) (2.3.0)\n",
            "Requirement already satisfied: certifi>=2017.4.17 in /usr/local/lib/python3.11/dist-packages (from requests<3.0.0,>=2.13.0->spacy<3.9,>=3.8->ChatterBot==1.2.7) (2025.1.31)\n",
            "Requirement already satisfied: blis<1.4.0,>=1.3.0 in /usr/local/lib/python3.11/dist-packages (from thinc<8.4.0,>=8.3.4->spacy<3.9,>=3.8->ChatterBot==1.2.7) (1.3.0)\n",
            "Requirement already satisfied: confection<1.0.0,>=0.0.1 in /usr/local/lib/python3.11/dist-packages (from thinc<8.4.0,>=8.3.4->spacy<3.9,>=3.8->ChatterBot==1.2.7) (0.1.5)\n",
            "Requirement already satisfied: click>=8.0.0 in /usr/local/lib/python3.11/dist-packages (from typer<1.0.0,>=0.3.0->spacy<3.9,>=3.8->ChatterBot==1.2.7) (8.1.8)\n",
            "Requirement already satisfied: shellingham>=1.3.0 in /usr/local/lib/python3.11/dist-packages (from typer<1.0.0,>=0.3.0->spacy<3.9,>=3.8->ChatterBot==1.2.7) (1.5.4)\n",
            "Requirement already satisfied: rich>=10.11.0 in /usr/local/lib/python3.11/dist-packages (from typer<1.0.0,>=0.3.0->spacy<3.9,>=3.8->ChatterBot==1.2.7) (13.9.4)\n",
            "Requirement already satisfied: cloudpathlib<1.0.0,>=0.7.0 in /usr/local/lib/python3.11/dist-packages (from weasel<0.5.0,>=0.1.0->spacy<3.9,>=3.8->ChatterBot==1.2.7) (0.21.0)\n",
            "Requirement already satisfied: smart-open<8.0.0,>=5.2.1 in /usr/local/lib/python3.11/dist-packages (from weasel<0.5.0,>=0.1.0->spacy<3.9,>=3.8->ChatterBot==1.2.7) (7.1.0)\n",
            "Requirement already satisfied: MarkupSafe>=2.0 in /usr/local/lib/python3.11/dist-packages (from jinja2->spacy<3.9,>=3.8->ChatterBot==1.2.7) (3.0.2)\n",
            "Requirement already satisfied: marisa-trie>=1.1.0 in /usr/local/lib/python3.11/dist-packages (from language-data>=1.2->langcodes<4.0.0,>=3.2.0->spacy<3.9,>=3.8->ChatterBot==1.2.7) (1.2.1)\n",
            "Requirement already satisfied: markdown-it-py>=2.2.0 in /usr/local/lib/python3.11/dist-packages (from rich>=10.11.0->typer<1.0.0,>=0.3.0->spacy<3.9,>=3.8->ChatterBot==1.2.7) (3.0.0)\n",
            "Requirement already satisfied: pygments<3.0.0,>=2.13.0 in /usr/local/lib/python3.11/dist-packages (from rich>=10.11.0->typer<1.0.0,>=0.3.0->spacy<3.9,>=3.8->ChatterBot==1.2.7) (2.18.0)\n",
            "Requirement already satisfied: wrapt in /usr/local/lib/python3.11/dist-packages (from smart-open<8.0.0,>=5.2.1->weasel<0.5.0,>=0.1.0->spacy<3.9,>=3.8->ChatterBot==1.2.7) (1.17.2)\n",
            "Requirement already satisfied: mdurl~=0.1 in /usr/local/lib/python3.11/dist-packages (from markdown-it-py>=2.2.0->rich>=10.11.0->typer<1.0.0,>=0.3.0->spacy<3.9,>=3.8->ChatterBot==1.2.7) (0.1.2)\n",
            "Downloading mathparse-0.1.5-py3-none-any.whl (8.8 kB)\n",
            "Downloading python_dateutil-2.9.0.post0-py2.py3-none-any.whl (229 kB)\n",
            "\u001b[2K   \u001b[90m━━━━━━━━━━━━━━━━━━━━━━━━━━━━━━━━━━━━━━━━\u001b[0m \u001b[32m229.9/229.9 kB\u001b[0m \u001b[31m4.7 MB/s\u001b[0m eta \u001b[36m0:00:00\u001b[0m\n",
            "\u001b[?25hBuilding wheels for collected packages: ChatterBot\n",
            "  Building editable for ChatterBot (pyproject.toml) ... \u001b[?25l\u001b[?25hdone\n",
            "  Created wheel for ChatterBot: filename=chatterbot-1.2.7-0.editable-py3-none-any.whl size=6206 sha256=f6ec12e8283de4774d0801a0f51331792100f2fa0a29cf5c58674cdb3af960de\n",
            "  Stored in directory: /tmp/pip-ephem-wheel-cache-ggsytpqd/wheels/b7/bc/ba/c018c6795b2c9ba7fc8f515441ae1356c3db6e63f30706e7b9\n",
            "Successfully built ChatterBot\n",
            "Installing collected packages: python-dateutil, mathparse, ChatterBot\n",
            "  Attempting uninstall: python-dateutil\n",
            "    Found existing installation: python-dateutil 2.8.2\n",
            "    Uninstalling python-dateutil-2.8.2:\n",
            "      Successfully uninstalled python-dateutil-2.8.2\n",
            "Successfully installed ChatterBot-1.2.7 mathparse-0.1.5 python-dateutil-2.9.0.post0\n"
          ]
        },
        {
          "output_type": "display_data",
          "data": {
            "application/vnd.colab-display-data+json": {
              "pip_warning": {
                "packages": [
                  "dateutil"
                ]
              },
              "id": "5f3ff43eaec64f3da9a4a790c8840b68"
            }
          },
          "metadata": {}
        },
        {
          "output_type": "stream",
          "name": "stdout",
          "text": [
            "ChatterBot is working on Colab!\n"
          ]
        }
      ],
      "source": [
        "\n",
        "!git clone https://github.com/gunthercox/ChatterBot.git\n",
        "%cd ChatterBot\n",
        "!pip install -e .\n",
        "\n",
        "from chatterbot import ChatBot\n",
        "from chatterbot.trainers import ListTrainer\n",
        "\n",
        "print(\"ChatterBot is working on Colab!\")"
      ]
    },
    {
      "cell_type": "code",
      "source": [
        "from chatterbot import ChatBot as DialogueBot\n",
        "from chatterbot.trainers import ListTrainer as DialogueTrainer\n",
        "\n",
        "wellness_bot = DialogueBot(\n",
        "    'WellnessAssist',\n",
        "    read_only=True,\n",
        "    logic_adapters=['chatterbot.logic.BestMatch']\n",
        ")\n",
        "\n",
        "educator = DialogueTrainer(wellness_bot)\n",
        "\n",
        "health_dialogues = [\n",
        "    'Hi', 'Hey there! I\\'m WellnessAssist. What health concerns do you have today?',\n",
        "    'Hello', 'Hello! How may I help you regarding your health?',\n",
        "    'I have a headache', 'Make sure to rest, drink fluids, and consider a light pain reliever.',\n",
        "    'What should I do if I have a fever?', 'Stay hydrated, rest, and visit a doctor if it doesn\\'t go away.',\n",
        "    'I feel dizzy', 'Sit down, take deep breaths, and hydrate. Seek help if it continues.',\n",
        "    'What should I eat for a cold?', 'Try soups, warm drinks, citrus fruits, and gentle meals.',\n",
        "    'How to stay healthy?', 'Eat well, exercise daily, sleep enough, and drink water.',\n",
        "    'What should I do in case of a cut?', 'Wash the area, apply antiseptic, and bandage it properly.',\n",
        "    'How much water should I drink daily?', 'About 2–3 liters, but it depends on your routine.',\n",
        "    'Thank you', 'Anytime! Take care and stay safe.',\n",
        "    'Bye', 'Goodbye! Wishing you good health.',\n",
        "    'I have a stomach ache', 'Avoid heavy food and rest. Get checked if it lasts long.',\n",
        "    'What to do if I feel nauseous?', 'Try ginger tea or lemon water. Rest and avoid strong smells.',\n",
        "    'I have a sore throat', 'Gargle warm salt water and drink soothing fluids.',\n",
        "    'How to improve immunity?', 'Eat greens and fruits, rest well, exercise, and stay positive.',\n",
        "    'Can I exercise if I’m sick?', 'Light activity is fine for a cold, but rest if you feel weak or feverish.',\n",
        "    'How can I reduce stress?', 'Practice mindfulness, exercise, sleep enough, and talk to someone.',\n",
        "    'I am feeling anxious', 'Breathe deeply, stay calm, talk to someone, or get professional advice.',\n",
        "    'What to do if I get a burn?', 'Cool it with water, avoid ice, and wrap lightly. Seek help if severe.',\n",
        "    'Can I take painkillers daily?', 'Avoid regular use unless your doctor recommends it.',\n",
        "    'How can I sleep better?', 'Stick to a schedule, reduce screen time, and keep the room cozy.',\n",
        "    'Is skipping meals harmful?', 'Yes, it may disturb your energy and metabolism. Eat regularly.',\n",
        "    'Should I take vitamins daily?', 'Depends on your diet. Consult a doctor first.',\n",
        "    'How to treat a cold naturally?', 'Rest well, take warm fluids, inhale steam, and use herbs like ginger or honey.'\n",
        "]\n",
        "\n",
        "educator.train(health_dialogues)\n",
        "print('WellnessAssist has been trained successfully.')\n"
      ],
      "metadata": {
        "colab": {
          "base_uri": "https://localhost:8080/"
        },
        "id": "qJcxZTkfFko3",
        "outputId": "84229a70-4776-4dca-8837-7e9aa9a295a1"
      },
      "execution_count": 1,
      "outputs": [
        {
          "output_type": "stream",
          "name": "stderr",
          "text": [
            "List Trainer: 48it [00:00, 597.81it/s]"
          ]
        },
        {
          "output_type": "stream",
          "name": "stdout",
          "text": [
            "WellnessAssist has been trained successfully.\n"
          ]
        },
        {
          "output_type": "stream",
          "name": "stderr",
          "text": [
            "\n"
          ]
        }
      ]
    },
    {
      "cell_type": "code",
      "source": [
        "def start_wellness_chat():\n",
        "    while True:\n",
        "        inquiry = input(\"You: \")\n",
        "        if inquiry.lower() == 'exit':\n",
        "            print(\"WellnessAssist: Take care! See you next time.\")\n",
        "            break\n",
        "        reply = wellness_bot.get_response(inquiry)\n",
        "        print(f\"WellnessAssist: {reply}\")\n",
        "\n",
        "start_wellness_chat()\n"
      ],
      "metadata": {
        "colab": {
          "base_uri": "https://localhost:8080/"
        },
        "id": "mti9pYy1Fq5N",
        "outputId": "23fe5ffb-5678-4fad-a462-b75ba8fbe858"
      },
      "execution_count": null,
      "outputs": [
        {
          "output_type": "stream",
          "name": "stdout",
          "text": [
            "You: hii\n",
            "WellnessAssist: Can I exercise if I’m sick?\n",
            "You: i am sick\n",
            "WellnessAssist: Hi\n"
          ]
        }
      ]
    }
  ]
}